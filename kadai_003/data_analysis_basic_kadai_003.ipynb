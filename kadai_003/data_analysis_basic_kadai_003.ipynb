{
  "nbformat": 4,
  "nbformat_minor": 0,
  "metadata": {
    "colab": {
      "provenance": []
    },
    "kernelspec": {
      "name": "python3",
      "display_name": "Python 3"
    },
    "language_info": {
      "name": "python"
    }
  },
  "cells": [
    {
      "cell_type": "code",
      "execution_count": 2,
      "metadata": {
        "colab": {
          "base_uri": "https://localhost:8080/"
        },
        "id": "Q-bjdY2JMWX9",
        "outputId": "37f479e6-0274-45bf-eec9-cc3b6e12f3e9"
      },
      "outputs": [
        {
          "output_type": "execute_result",
          "data": {
            "text/plain": [
              "54"
            ]
          },
          "metadata": {},
          "execution_count": 2
        }
      ],
      "source": [
        "import numpy as np\n",
        "A = np.array([[4, 7, 2], [1, 2, 1]])\n",
        "B = np.array([[2, 2, 2], [4, 5, 2], [9, 2, 1]])\n",
        "\n",
        "result = np.dot(A, B)\n",
        "result\n",
        "\n",
        "np.max(result)\n"
      ]
    }
  ]
}