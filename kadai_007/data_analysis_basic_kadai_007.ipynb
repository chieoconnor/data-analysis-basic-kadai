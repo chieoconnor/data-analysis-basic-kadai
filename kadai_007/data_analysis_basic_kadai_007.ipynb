{
  "nbformat": 4,
  "nbformat_minor": 0,
  "metadata": {
    "colab": {
      "provenance": []
    },
    "kernelspec": {
      "name": "python3",
      "display_name": "Python 3"
    },
    "language_info": {
      "name": "python"
    }
  },
  "cells": [
    {
      "cell_type": "code",
      "source": [
        "pip install japanize-matplotlib\n"
      ],
      "metadata": {
        "id": "CTudNOJJIsDc"
      },
      "execution_count": null,
      "outputs": []
    },
    {
      "cell_type": "code",
      "execution_count": null,
      "metadata": {
        "id": "jKUOEP1kcctj"
      },
      "outputs": [],
      "source": [
        "import matplotlib.pyplot as plt\n",
        "import pandas as pd\n",
        "import japanize_matplotlib\n",
        "\n",
        "df = pd.read_csv(\"sample_pandas_6.csv\")\n",
        "category_df = pd.read_csv(\"category.csv\")\n",
        "\n",
        "df = pd.merge(df, category_df[['商品番号', 'カテゴリー']], how='inner', on='商品番号')\n",
        "\n",
        "df['カテゴリー'].value_counts().plot(kind='bar')\n",
        "plt.show()\n",
        "\n",
        "df.groupby('商品番号')['注文数'].describe()\n",
        "\n"
      ]
    }
  ]
}